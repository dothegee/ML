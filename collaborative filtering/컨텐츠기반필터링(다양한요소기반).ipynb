{
 "cells": [
  {
   "cell_type": "markdown",
   "metadata": {},
   "source": [
    "### 다양한 요소 기반 추천(장르, 감독, 키워드 등)"
   ]
  },
  {
   "cell_type": "code",
   "execution_count": 40,
   "metadata": {},
   "outputs": [],
   "source": [
    "import pandas as pd\n",
    "import numpy as np\n",
    "\n",
    "df1 = pd.read_csv('tmdb_5000_credits.csv')\n",
    "df2 = pd.read_csv('tmdb_5000_movies.csv')\n",
    "df1.columns=['id', 'title', 'cast', 'crew']\n",
    "df = df2.merge(df1[['id', 'cast', 'crew']], on ='id') # id를 기준으로 병합\n",
    "C = df2['vote_average'].mean()\n",
    "m = df2['vote_count'].quantile(0.9) #상위 10% 해당하는 데이터 뽑음\n",
    "q_movies = df.copy().loc[df2['vote_count'] >= m]\n",
    "def weighted_rating(x, m=m, C=C):\n",
    "    v = x['vote_count']\n",
    "    R = x['vote_average']\n",
    "    return (v / ( v + m ) * R ) + (m / ( m + v ) * C)\n",
    "q_movies['score'] = q_movies.apply(weighted_rating, axis=1) # axis = 1 : row단위로 추가\n",
    "q_movies = q_movies.sort_values('score', ascending=False)"
   ]
  },
  {
   "cell_type": "code",
   "execution_count": 41,
   "metadata": {},
   "outputs": [
    {
     "data": {
      "text/plain": [
       "'[{\"id\": 28, \"name\": \"Action\"}, {\"id\": 12, \"name\": \"Adventure\"}, {\"id\": 14, \"name\": \"Fantasy\"}, {\"id\": 878, \"name\": \"Science Fiction\"}]'"
      ]
     },
     "execution_count": 41,
     "metadata": {},
     "output_type": "execute_result"
    }
   ],
   "source": [
    "df.loc[0,'genres']"
   ]
  },
  {
   "cell_type": "code",
   "execution_count": 42,
   "metadata": {},
   "outputs": [
    {
     "data": {
      "text/plain": [
       "str"
      ]
     },
     "execution_count": 42,
     "metadata": {},
     "output_type": "execute_result"
    }
   ],
   "source": [
    "type(df.loc[0,'genres'])"
   ]
  },
  {
   "cell_type": "markdown",
   "metadata": {},
   "source": [
    "literal_eval 예제"
   ]
  },
  {
   "cell_type": "code",
   "execution_count": 43,
   "metadata": {},
   "outputs": [
    {
     "name": "stdout",
     "output_type": "stream",
     "text": [
      "<class 'str'> <class 'list'>\n"
     ]
    },
    {
     "data": {
      "text/plain": [
       "([{'id': 28, 'name': 'Action'}, {'id': 12, 'name': 'Adventure'}], list)"
      ]
     },
     "execution_count": 43,
     "metadata": {},
     "output_type": "execute_result"
    }
   ],
   "source": [
    "from ast import literal_eval\n",
    "s1 = '[{\"id\": 28, \"name\": \"Action\"}, {\"id\": 12, \"name\": \"Adventure\"}]'\n",
    "s2 = [{\"id\": 28, \"name\": \"Action\"}, {\"id\": 12, \"name\": \"Adventure\"}]\n",
    "print(type(s1),type(s2))\n",
    "s1 = literal_eval(s1) # 문자열을 벗겨줌\n",
    "s2, type(s2)"
   ]
  },
  {
   "cell_type": "code",
   "execution_count": 44,
   "metadata": {},
   "outputs": [],
   "source": [
    "features = ['cast', 'crew', 'keywords', 'genres']\n",
    "for feature in features:\n",
    "    df[feature] = df[feature].apply(literal_eval)"
   ]
  },
  {
   "cell_type": "markdown",
   "metadata": {},
   "source": [
    "감독 정보"
   ]
  },
  {
   "cell_type": "code",
   "execution_count": 45,
   "metadata": {},
   "outputs": [],
   "source": [
    "# 감독 정보를 추출\n",
    "def get_director(x):\n",
    "    for i in x:\n",
    "        if i['job'] == 'Director':\n",
    "            return i['name']\n",
    "\n",
    "    return np.nan"
   ]
  },
  {
   "cell_type": "code",
   "execution_count": 46,
   "metadata": {},
   "outputs": [
    {
     "data": {
      "text/plain": [
       "crew    [{'credit_id': '52fe48009251416c750aca23', 'de...\n",
       "Name: 0, dtype: object"
      ]
     },
     "execution_count": 46,
     "metadata": {},
     "output_type": "execute_result"
    }
   ],
   "source": [
    "df.loc[0,['crew']]"
   ]
  },
  {
   "cell_type": "code",
   "execution_count": 47,
   "metadata": {},
   "outputs": [
    {
     "data": {
      "text/plain": [
       "0           James Cameron\n",
       "1          Gore Verbinski\n",
       "2              Sam Mendes\n",
       "3       Christopher Nolan\n",
       "4          Andrew Stanton\n",
       "              ...        \n",
       "4798     Robert Rodriguez\n",
       "4799         Edward Burns\n",
       "4800          Scott Smith\n",
       "4801          Daniel Hsia\n",
       "4802     Brian Herzlinger\n",
       "Name: director, Length: 4803, dtype: object"
      ]
     },
     "execution_count": 47,
     "metadata": {},
     "output_type": "execute_result"
    }
   ],
   "source": [
    "df['director'] = df['crew'].apply(get_director)\n",
    "df['director']"
   ]
  },
  {
   "cell_type": "code",
   "execution_count": 48,
   "metadata": {},
   "outputs": [
    {
     "data": {
      "text/plain": [
       "30"
      ]
     },
     "execution_count": 48,
     "metadata": {},
     "output_type": "execute_result"
    }
   ],
   "source": [
    "df['director'].isnull().sum()"
   ]
  },
  {
   "cell_type": "markdown",
   "metadata": {},
   "source": [
    "배우, 장르, keyword 정보\n",
    "- 앞에 나온 3명의 배우가 주연배우라고 생각하고 3개만 추출"
   ]
  },
  {
   "cell_type": "code",
   "execution_count": 49,
   "metadata": {},
   "outputs": [
    {
     "data": {
      "text/plain": [
       "[{'cast_id': 242,\n",
       "  'character': 'Jake Sully',\n",
       "  'credit_id': '5602a8a7c3a3685532001c9a',\n",
       "  'gender': 2,\n",
       "  'id': 65731,\n",
       "  'name': 'Sam Worthington',\n",
       "  'order': 0},\n",
       " {'cast_id': 3,\n",
       "  'character': 'Neytiri',\n",
       "  'credit_id': '52fe48009251416c750ac9cb',\n",
       "  'gender': 1,\n",
       "  'id': 8691,\n",
       "  'name': 'Zoe Saldana',\n",
       "  'order': 1},\n",
       " {'cast_id': 25,\n",
       "  'character': 'Dr. Grace Augustine',\n",
       "  'credit_id': '52fe48009251416c750aca39',\n",
       "  'gender': 1,\n",
       "  'id': 10205,\n",
       "  'name': 'Sigourney Weaver',\n",
       "  'order': 2},\n",
       " {'cast_id': 4,\n",
       "  'character': 'Col. Quaritch',\n",
       "  'credit_id': '52fe48009251416c750ac9cf',\n",
       "  'gender': 2,\n",
       "  'id': 32747,\n",
       "  'name': 'Stephen Lang',\n",
       "  'order': 3},\n",
       " {'cast_id': 5,\n",
       "  'character': 'Trudy Chacon',\n",
       "  'credit_id': '52fe48009251416c750ac9d3',\n",
       "  'gender': 1,\n",
       "  'id': 17647,\n",
       "  'name': 'Michelle Rodriguez',\n",
       "  'order': 4},\n",
       " {'cast_id': 8,\n",
       "  'character': 'Selfridge',\n",
       "  'credit_id': '52fe48009251416c750ac9e1',\n",
       "  'gender': 2,\n",
       "  'id': 1771,\n",
       "  'name': 'Giovanni Ribisi',\n",
       "  'order': 5},\n",
       " {'cast_id': 7,\n",
       "  'character': 'Norm Spellman',\n",
       "  'credit_id': '52fe48009251416c750ac9dd',\n",
       "  'gender': 2,\n",
       "  'id': 59231,\n",
       "  'name': 'Joel David Moore',\n",
       "  'order': 6},\n",
       " {'cast_id': 9,\n",
       "  'character': 'Moat',\n",
       "  'credit_id': '52fe48009251416c750ac9e5',\n",
       "  'gender': 1,\n",
       "  'id': 30485,\n",
       "  'name': 'CCH Pounder',\n",
       "  'order': 7},\n",
       " {'cast_id': 11,\n",
       "  'character': 'Eytukan',\n",
       "  'credit_id': '52fe48009251416c750ac9ed',\n",
       "  'gender': 2,\n",
       "  'id': 15853,\n",
       "  'name': 'Wes Studi',\n",
       "  'order': 8},\n",
       " {'cast_id': 10,\n",
       "  'character': \"Tsu'Tey\",\n",
       "  'credit_id': '52fe48009251416c750ac9e9',\n",
       "  'gender': 2,\n",
       "  'id': 10964,\n",
       "  'name': 'Laz Alonso',\n",
       "  'order': 9},\n",
       " {'cast_id': 12,\n",
       "  'character': 'Dr. Max Patel',\n",
       "  'credit_id': '52fe48009251416c750ac9f1',\n",
       "  'gender': 2,\n",
       "  'id': 95697,\n",
       "  'name': 'Dileep Rao',\n",
       "  'order': 10},\n",
       " {'cast_id': 13,\n",
       "  'character': 'Lyle Wainfleet',\n",
       "  'credit_id': '52fe48009251416c750ac9f5',\n",
       "  'gender': 2,\n",
       "  'id': 98215,\n",
       "  'name': 'Matt Gerald',\n",
       "  'order': 11},\n",
       " {'cast_id': 32,\n",
       "  'character': 'Private Fike',\n",
       "  'credit_id': '52fe48009251416c750aca5b',\n",
       "  'gender': 2,\n",
       "  'id': 154153,\n",
       "  'name': 'Sean Anthony Moran',\n",
       "  'order': 12},\n",
       " {'cast_id': 33,\n",
       "  'character': 'Cryo Vault Med Tech',\n",
       "  'credit_id': '52fe48009251416c750aca5f',\n",
       "  'gender': 2,\n",
       "  'id': 397312,\n",
       "  'name': 'Jason Whyte',\n",
       "  'order': 13},\n",
       " {'cast_id': 34,\n",
       "  'character': 'Venture Star Crew Chief',\n",
       "  'credit_id': '52fe48009251416c750aca63',\n",
       "  'gender': 2,\n",
       "  'id': 42317,\n",
       "  'name': 'Scott Lawrence',\n",
       "  'order': 14},\n",
       " {'cast_id': 35,\n",
       "  'character': 'Lock Up Trooper',\n",
       "  'credit_id': '52fe48009251416c750aca67',\n",
       "  'gender': 2,\n",
       "  'id': 986734,\n",
       "  'name': 'Kelly Kilgour',\n",
       "  'order': 15},\n",
       " {'cast_id': 36,\n",
       "  'character': 'Shuttle Pilot',\n",
       "  'credit_id': '52fe48009251416c750aca6b',\n",
       "  'gender': 0,\n",
       "  'id': 1207227,\n",
       "  'name': 'James Patrick Pitt',\n",
       "  'order': 16},\n",
       " {'cast_id': 37,\n",
       "  'character': 'Shuttle Co-Pilot',\n",
       "  'credit_id': '52fe48009251416c750aca6f',\n",
       "  'gender': 0,\n",
       "  'id': 1180936,\n",
       "  'name': 'Sean Patrick Murphy',\n",
       "  'order': 17},\n",
       " {'cast_id': 38,\n",
       "  'character': 'Shuttle Crew Chief',\n",
       "  'credit_id': '52fe48009251416c750aca73',\n",
       "  'gender': 2,\n",
       "  'id': 1019578,\n",
       "  'name': 'Peter Dillon',\n",
       "  'order': 18},\n",
       " {'cast_id': 39,\n",
       "  'character': 'Tractor Operator / Troupe',\n",
       "  'credit_id': '52fe48009251416c750aca77',\n",
       "  'gender': 0,\n",
       "  'id': 91443,\n",
       "  'name': 'Kevin Dorman',\n",
       "  'order': 19},\n",
       " {'cast_id': 40,\n",
       "  'character': 'Dragon Gunship Pilot',\n",
       "  'credit_id': '52fe48009251416c750aca7b',\n",
       "  'gender': 2,\n",
       "  'id': 173391,\n",
       "  'name': 'Kelson Henderson',\n",
       "  'order': 20},\n",
       " {'cast_id': 41,\n",
       "  'character': 'Dragon Gunship Gunner',\n",
       "  'credit_id': '52fe48009251416c750aca7f',\n",
       "  'gender': 0,\n",
       "  'id': 1207236,\n",
       "  'name': 'David Van Horn',\n",
       "  'order': 21},\n",
       " {'cast_id': 42,\n",
       "  'character': 'Dragon Gunship Navigator',\n",
       "  'credit_id': '52fe48009251416c750aca83',\n",
       "  'gender': 0,\n",
       "  'id': 215913,\n",
       "  'name': 'Jacob Tomuri',\n",
       "  'order': 22},\n",
       " {'cast_id': 43,\n",
       "  'character': 'Suit #1',\n",
       "  'credit_id': '52fe48009251416c750aca87',\n",
       "  'gender': 0,\n",
       "  'id': 143206,\n",
       "  'name': 'Michael Blain-Rozgay',\n",
       "  'order': 23},\n",
       " {'cast_id': 44,\n",
       "  'character': 'Suit #2',\n",
       "  'credit_id': '52fe48009251416c750aca8b',\n",
       "  'gender': 2,\n",
       "  'id': 169676,\n",
       "  'name': 'Jon Curry',\n",
       "  'order': 24},\n",
       " {'cast_id': 46,\n",
       "  'character': 'Ambient Room Tech',\n",
       "  'credit_id': '52fe48009251416c750aca8f',\n",
       "  'gender': 0,\n",
       "  'id': 1048610,\n",
       "  'name': 'Luke Hawker',\n",
       "  'order': 25},\n",
       " {'cast_id': 47,\n",
       "  'character': 'Ambient Room Tech / Troupe',\n",
       "  'credit_id': '52fe48009251416c750aca93',\n",
       "  'gender': 0,\n",
       "  'id': 42288,\n",
       "  'name': 'Woody Schultz',\n",
       "  'order': 26},\n",
       " {'cast_id': 48,\n",
       "  'character': 'Horse Clan Leader',\n",
       "  'credit_id': '52fe48009251416c750aca97',\n",
       "  'gender': 2,\n",
       "  'id': 68278,\n",
       "  'name': 'Peter Mensah',\n",
       "  'order': 27},\n",
       " {'cast_id': 49,\n",
       "  'character': 'Link Room Tech',\n",
       "  'credit_id': '52fe48009251416c750aca9b',\n",
       "  'gender': 0,\n",
       "  'id': 1207247,\n",
       "  'name': 'Sonia Yee',\n",
       "  'order': 28},\n",
       " {'cast_id': 50,\n",
       "  'character': 'Basketball Avatar / Troupe',\n",
       "  'credit_id': '52fe48009251416c750aca9f',\n",
       "  'gender': 1,\n",
       "  'id': 1207248,\n",
       "  'name': 'Jahnel Curfman',\n",
       "  'order': 29},\n",
       " {'cast_id': 51,\n",
       "  'character': 'Basketball Avatar',\n",
       "  'credit_id': '52fe48009251416c750acaa3',\n",
       "  'gender': 0,\n",
       "  'id': 89714,\n",
       "  'name': 'Ilram Choi',\n",
       "  'order': 30},\n",
       " {'cast_id': 52,\n",
       "  'character': \"Na'vi Child\",\n",
       "  'credit_id': '52fe48009251416c750acaa7',\n",
       "  'gender': 0,\n",
       "  'id': 1207249,\n",
       "  'name': 'Kyla Warren',\n",
       "  'order': 31},\n",
       " {'cast_id': 53,\n",
       "  'character': 'Troupe',\n",
       "  'credit_id': '52fe48009251416c750acaab',\n",
       "  'gender': 0,\n",
       "  'id': 1207250,\n",
       "  'name': 'Lisa Roumain',\n",
       "  'order': 32},\n",
       " {'cast_id': 54,\n",
       "  'character': 'Troupe',\n",
       "  'credit_id': '52fe48009251416c750acaaf',\n",
       "  'gender': 1,\n",
       "  'id': 83105,\n",
       "  'name': 'Debra Wilson',\n",
       "  'order': 33},\n",
       " {'cast_id': 57,\n",
       "  'character': 'Troupe',\n",
       "  'credit_id': '52fe48009251416c750acabb',\n",
       "  'gender': 0,\n",
       "  'id': 1207253,\n",
       "  'name': 'Chris Mala',\n",
       "  'order': 34},\n",
       " {'cast_id': 55,\n",
       "  'character': 'Troupe',\n",
       "  'credit_id': '52fe48009251416c750acab3',\n",
       "  'gender': 0,\n",
       "  'id': 1207251,\n",
       "  'name': 'Taylor Kibby',\n",
       "  'order': 35},\n",
       " {'cast_id': 56,\n",
       "  'character': 'Troupe',\n",
       "  'credit_id': '52fe48009251416c750acab7',\n",
       "  'gender': 0,\n",
       "  'id': 1207252,\n",
       "  'name': 'Jodie Landau',\n",
       "  'order': 36},\n",
       " {'cast_id': 58,\n",
       "  'character': 'Troupe',\n",
       "  'credit_id': '52fe48009251416c750acabf',\n",
       "  'gender': 0,\n",
       "  'id': 1207254,\n",
       "  'name': 'Julie Lamm',\n",
       "  'order': 37},\n",
       " {'cast_id': 59,\n",
       "  'character': 'Troupe',\n",
       "  'credit_id': '52fe48009251416c750acac3',\n",
       "  'gender': 0,\n",
       "  'id': 1207257,\n",
       "  'name': 'Cullen B. Madden',\n",
       "  'order': 38},\n",
       " {'cast_id': 60,\n",
       "  'character': 'Troupe',\n",
       "  'credit_id': '52fe48009251416c750acac7',\n",
       "  'gender': 0,\n",
       "  'id': 1207259,\n",
       "  'name': 'Joseph Brady Madden',\n",
       "  'order': 39},\n",
       " {'cast_id': 61,\n",
       "  'character': 'Troupe',\n",
       "  'credit_id': '52fe48009251416c750acacb',\n",
       "  'gender': 0,\n",
       "  'id': 1207262,\n",
       "  'name': 'Frankie Torres',\n",
       "  'order': 40},\n",
       " {'cast_id': 62,\n",
       "  'character': 'Troupe',\n",
       "  'credit_id': '52fe48009251416c750acacf',\n",
       "  'gender': 1,\n",
       "  'id': 1158600,\n",
       "  'name': 'Austin Wilson',\n",
       "  'order': 41},\n",
       " {'cast_id': 63,\n",
       "  'character': 'Troupe',\n",
       "  'credit_id': '52fe48019251416c750acad3',\n",
       "  'gender': 1,\n",
       "  'id': 983705,\n",
       "  'name': 'Sara Wilson',\n",
       "  'order': 42},\n",
       " {'cast_id': 64,\n",
       "  'character': 'Troupe',\n",
       "  'credit_id': '52fe48019251416c750acad7',\n",
       "  'gender': 0,\n",
       "  'id': 1207263,\n",
       "  'name': 'Tamica Washington-Miller',\n",
       "  'order': 43},\n",
       " {'cast_id': 65,\n",
       "  'character': 'Op Center Staff',\n",
       "  'credit_id': '52fe48019251416c750acadb',\n",
       "  'gender': 1,\n",
       "  'id': 1145098,\n",
       "  'name': 'Lucy Briant',\n",
       "  'order': 44},\n",
       " {'cast_id': 66,\n",
       "  'character': 'Op Center Staff',\n",
       "  'credit_id': '52fe48019251416c750acadf',\n",
       "  'gender': 2,\n",
       "  'id': 33305,\n",
       "  'name': 'Nathan Meister',\n",
       "  'order': 45},\n",
       " {'cast_id': 67,\n",
       "  'character': 'Op Center Staff',\n",
       "  'credit_id': '52fe48019251416c750acae3',\n",
       "  'gender': 0,\n",
       "  'id': 1207264,\n",
       "  'name': 'Gerry Blair',\n",
       "  'order': 46},\n",
       " {'cast_id': 68,\n",
       "  'character': 'Op Center Staff',\n",
       "  'credit_id': '52fe48019251416c750acae7',\n",
       "  'gender': 2,\n",
       "  'id': 33311,\n",
       "  'name': 'Matthew Chamberlain',\n",
       "  'order': 47},\n",
       " {'cast_id': 69,\n",
       "  'character': 'Op Center Staff',\n",
       "  'credit_id': '52fe48019251416c750acaeb',\n",
       "  'gender': 0,\n",
       "  'id': 1207265,\n",
       "  'name': 'Paul Yates',\n",
       "  'order': 48},\n",
       " {'cast_id': 70,\n",
       "  'character': 'Op Center Duty Officer',\n",
       "  'credit_id': '52fe48019251416c750acaef',\n",
       "  'gender': 0,\n",
       "  'id': 1207266,\n",
       "  'name': 'Wray Wilson',\n",
       "  'order': 49},\n",
       " {'cast_id': 71,\n",
       "  'character': 'Op Center Staff',\n",
       "  'credit_id': '52fe48019251416c750acaf3',\n",
       "  'gender': 2,\n",
       "  'id': 54492,\n",
       "  'name': 'James Gaylyn',\n",
       "  'order': 50},\n",
       " {'cast_id': 72,\n",
       "  'character': 'Dancer',\n",
       "  'credit_id': '52fe48019251416c750acaf7',\n",
       "  'gender': 0,\n",
       "  'id': 1207267,\n",
       "  'name': 'Melvin Leno Clark III',\n",
       "  'order': 51},\n",
       " {'cast_id': 73,\n",
       "  'character': 'Dancer',\n",
       "  'credit_id': '52fe48019251416c750acafb',\n",
       "  'gender': 0,\n",
       "  'id': 1207268,\n",
       "  'name': 'Carvon Futrell',\n",
       "  'order': 52},\n",
       " {'cast_id': 74,\n",
       "  'character': 'Dancer',\n",
       "  'credit_id': '52fe48019251416c750acaff',\n",
       "  'gender': 0,\n",
       "  'id': 1207269,\n",
       "  'name': 'Brandon Jelkes',\n",
       "  'order': 53},\n",
       " {'cast_id': 75,\n",
       "  'character': 'Dancer',\n",
       "  'credit_id': '52fe48019251416c750acb03',\n",
       "  'gender': 0,\n",
       "  'id': 1207270,\n",
       "  'name': 'Micah Moch',\n",
       "  'order': 54},\n",
       " {'cast_id': 76,\n",
       "  'character': 'Dancer',\n",
       "  'credit_id': '52fe48019251416c750acb07',\n",
       "  'gender': 0,\n",
       "  'id': 1207271,\n",
       "  'name': 'Hanniyah Muhammad',\n",
       "  'order': 55},\n",
       " {'cast_id': 77,\n",
       "  'character': 'Dancer',\n",
       "  'credit_id': '52fe48019251416c750acb0b',\n",
       "  'gender': 0,\n",
       "  'id': 1207272,\n",
       "  'name': 'Christopher Nolen',\n",
       "  'order': 56},\n",
       " {'cast_id': 78,\n",
       "  'character': 'Dancer',\n",
       "  'credit_id': '52fe48019251416c750acb0f',\n",
       "  'gender': 0,\n",
       "  'id': 1207273,\n",
       "  'name': 'Christa Oliver',\n",
       "  'order': 57},\n",
       " {'cast_id': 79,\n",
       "  'character': 'Dancer',\n",
       "  'credit_id': '52fe48019251416c750acb13',\n",
       "  'gender': 0,\n",
       "  'id': 1207274,\n",
       "  'name': 'April Marie Thomas',\n",
       "  'order': 58},\n",
       " {'cast_id': 80,\n",
       "  'character': 'Dancer',\n",
       "  'credit_id': '52fe48019251416c750acb17',\n",
       "  'gender': 0,\n",
       "  'id': 1207275,\n",
       "  'name': 'Bravita A. Threatt',\n",
       "  'order': 59},\n",
       " {'cast_id': 81,\n",
       "  'character': 'Mining Chief (uncredited)',\n",
       "  'credit_id': '52fe48019251416c750acb1b',\n",
       "  'gender': 0,\n",
       "  'id': 1207276,\n",
       "  'name': 'Colin Bleasdale',\n",
       "  'order': 60},\n",
       " {'cast_id': 82,\n",
       "  'character': 'Veteran Miner (uncredited)',\n",
       "  'credit_id': '52fe48019251416c750acb1f',\n",
       "  'gender': 0,\n",
       "  'id': 107969,\n",
       "  'name': 'Mike Bodnar',\n",
       "  'order': 61},\n",
       " {'cast_id': 83,\n",
       "  'character': 'Richard (uncredited)',\n",
       "  'credit_id': '52fe48019251416c750acb23',\n",
       "  'gender': 0,\n",
       "  'id': 1207278,\n",
       "  'name': 'Matt Clayton',\n",
       "  'order': 62},\n",
       " {'cast_id': 84,\n",
       "  'character': \"Nav'i (uncredited)\",\n",
       "  'credit_id': '52fe48019251416c750acb27',\n",
       "  'gender': 1,\n",
       "  'id': 147898,\n",
       "  'name': 'Nicole Dionne',\n",
       "  'order': 63},\n",
       " {'cast_id': 85,\n",
       "  'character': 'Trooper (uncredited)',\n",
       "  'credit_id': '52fe48019251416c750acb2b',\n",
       "  'gender': 0,\n",
       "  'id': 1207280,\n",
       "  'name': 'Jamie Harrison',\n",
       "  'order': 64},\n",
       " {'cast_id': 86,\n",
       "  'character': 'Trooper (uncredited)',\n",
       "  'credit_id': '52fe48019251416c750acb2f',\n",
       "  'gender': 0,\n",
       "  'id': 1207281,\n",
       "  'name': 'Allan Henry',\n",
       "  'order': 65},\n",
       " {'cast_id': 87,\n",
       "  'character': 'Ground Technician (uncredited)',\n",
       "  'credit_id': '52fe48019251416c750acb33',\n",
       "  'gender': 2,\n",
       "  'id': 1207282,\n",
       "  'name': 'Anthony Ingruber',\n",
       "  'order': 66},\n",
       " {'cast_id': 88,\n",
       "  'character': 'Flight Crew Mechanic (uncredited)',\n",
       "  'credit_id': '52fe48019251416c750acb37',\n",
       "  'gender': 0,\n",
       "  'id': 1207283,\n",
       "  'name': 'Ashley Jeffery',\n",
       "  'order': 67},\n",
       " {'cast_id': 14,\n",
       "  'character': 'Samson Pilot',\n",
       "  'credit_id': '52fe48009251416c750ac9f9',\n",
       "  'gender': 0,\n",
       "  'id': 98216,\n",
       "  'name': 'Dean Knowsley',\n",
       "  'order': 68},\n",
       " {'cast_id': 89,\n",
       "  'character': 'Trooper (uncredited)',\n",
       "  'credit_id': '52fe48019251416c750acb3b',\n",
       "  'gender': 0,\n",
       "  'id': 1201399,\n",
       "  'name': 'Joseph Mika-Hunt',\n",
       "  'order': 69},\n",
       " {'cast_id': 90,\n",
       "  'character': 'Banshee (uncredited)',\n",
       "  'credit_id': '52fe48019251416c750acb3f',\n",
       "  'gender': 0,\n",
       "  'id': 236696,\n",
       "  'name': 'Terry Notary',\n",
       "  'order': 70},\n",
       " {'cast_id': 91,\n",
       "  'character': 'Soldier (uncredited)',\n",
       "  'credit_id': '52fe48019251416c750acb43',\n",
       "  'gender': 0,\n",
       "  'id': 1207287,\n",
       "  'name': 'Kai Pantano',\n",
       "  'order': 71},\n",
       " {'cast_id': 92,\n",
       "  'character': 'Blast Technician (uncredited)',\n",
       "  'credit_id': '52fe48019251416c750acb47',\n",
       "  'gender': 0,\n",
       "  'id': 1207288,\n",
       "  'name': 'Logan Pithyou',\n",
       "  'order': 72},\n",
       " {'cast_id': 93,\n",
       "  'character': 'Vindum Raah (uncredited)',\n",
       "  'credit_id': '52fe48019251416c750acb4b',\n",
       "  'gender': 0,\n",
       "  'id': 1207289,\n",
       "  'name': 'Stuart Pollock',\n",
       "  'order': 73},\n",
       " {'cast_id': 94,\n",
       "  'character': 'Hero (uncredited)',\n",
       "  'credit_id': '52fe48019251416c750acb4f',\n",
       "  'gender': 0,\n",
       "  'id': 584868,\n",
       "  'name': 'Raja',\n",
       "  'order': 74},\n",
       " {'cast_id': 95,\n",
       "  'character': 'Ops Centreworker (uncredited)',\n",
       "  'credit_id': '52fe48019251416c750acb53',\n",
       "  'gender': 0,\n",
       "  'id': 1207290,\n",
       "  'name': 'Gareth Ruck',\n",
       "  'order': 75},\n",
       " {'cast_id': 96,\n",
       "  'character': 'Engineer (uncredited)',\n",
       "  'credit_id': '52fe48019251416c750acb57',\n",
       "  'gender': 0,\n",
       "  'id': 1062463,\n",
       "  'name': 'Rhian Sheehan',\n",
       "  'order': 76},\n",
       " {'cast_id': 97,\n",
       "  'character': \"Col. Quaritch's Mech Suit (uncredited)\",\n",
       "  'credit_id': '52fe48019251416c750acb5b',\n",
       "  'gender': 0,\n",
       "  'id': 60656,\n",
       "  'name': 'T. J. Storm',\n",
       "  'order': 77},\n",
       " {'cast_id': 98,\n",
       "  'character': 'Female Marine (uncredited)',\n",
       "  'credit_id': '52fe48019251416c750acb5f',\n",
       "  'gender': 0,\n",
       "  'id': 1207291,\n",
       "  'name': 'Jodie Taylor',\n",
       "  'order': 78},\n",
       " {'cast_id': 99,\n",
       "  'character': 'Ikran Clan Leader (uncredited)',\n",
       "  'credit_id': '52fe48019251416c750acb63',\n",
       "  'gender': 1,\n",
       "  'id': 1186027,\n",
       "  'name': 'Alicia Vela-Bailey',\n",
       "  'order': 79},\n",
       " {'cast_id': 100,\n",
       "  'character': 'Geologist (uncredited)',\n",
       "  'credit_id': '52fe48019251416c750acb67',\n",
       "  'gender': 0,\n",
       "  'id': 1207292,\n",
       "  'name': 'Richard Whiteside',\n",
       "  'order': 80},\n",
       " {'cast_id': 101,\n",
       "  'character': \"Na'vi (uncredited)\",\n",
       "  'credit_id': '52fe48019251416c750acb6b',\n",
       "  'gender': 0,\n",
       "  'id': 103259,\n",
       "  'name': 'Nikie Zambo',\n",
       "  'order': 81},\n",
       " {'cast_id': 102,\n",
       "  'character': 'Ambient Room Tech / Troupe',\n",
       "  'credit_id': '52fe48019251416c750acb6f',\n",
       "  'gender': 1,\n",
       "  'id': 42286,\n",
       "  'name': 'Julene Renee',\n",
       "  'order': 82}]"
      ]
     },
     "execution_count": 49,
     "metadata": {},
     "output_type": "execute_result"
    }
   ],
   "source": [
    "df.loc[0,'cast']"
   ]
  },
  {
   "cell_type": "code",
   "execution_count": 50,
   "metadata": {},
   "outputs": [
    {
     "data": {
      "text/plain": [
       "[{'id': 1463, 'name': 'culture clash'},\n",
       " {'id': 2964, 'name': 'future'},\n",
       " {'id': 3386, 'name': 'space war'},\n",
       " {'id': 3388, 'name': 'space colony'},\n",
       " {'id': 3679, 'name': 'society'},\n",
       " {'id': 3801, 'name': 'space travel'},\n",
       " {'id': 9685, 'name': 'futuristic'},\n",
       " {'id': 9840, 'name': 'romance'},\n",
       " {'id': 9882, 'name': 'space'},\n",
       " {'id': 9951, 'name': 'alien'},\n",
       " {'id': 10148, 'name': 'tribe'},\n",
       " {'id': 10158, 'name': 'alien planet'},\n",
       " {'id': 10987, 'name': 'cgi'},\n",
       " {'id': 11399, 'name': 'marine'},\n",
       " {'id': 13065, 'name': 'soldier'},\n",
       " {'id': 14643, 'name': 'battle'},\n",
       " {'id': 14720, 'name': 'love affair'},\n",
       " {'id': 165431, 'name': 'anti war'},\n",
       " {'id': 193554, 'name': 'power relations'},\n",
       " {'id': 206690, 'name': 'mind and soul'},\n",
       " {'id': 209714, 'name': '3d'}]"
      ]
     },
     "execution_count": 50,
     "metadata": {},
     "output_type": "execute_result"
    }
   ],
   "source": [
    "df.loc[0,'keywords']"
   ]
  },
  {
   "cell_type": "code",
   "execution_count": 51,
   "metadata": {},
   "outputs": [
    {
     "data": {
      "text/plain": [
       "[{'id': 28, 'name': 'Action'},\n",
       " {'id': 12, 'name': 'Adventure'},\n",
       " {'id': 14, 'name': 'Fantasy'},\n",
       " {'id': 878, 'name': 'Science Fiction'}]"
      ]
     },
     "execution_count": 51,
     "metadata": {},
     "output_type": "execute_result"
    }
   ],
   "source": [
    "df.loc[0,'genres']"
   ]
  },
  {
   "cell_type": "code",
   "execution_count": 52,
   "metadata": {},
   "outputs": [],
   "source": [
    "# 처음 3개의 데이터 중에서 name에 해당하는 value만 추출\n",
    "def get_list(x):\n",
    "    if isinstance(x, list): # 자료형이 list라면\n",
    "        names = [i['name'] for i in x]\n",
    "        if len(names) > 3:\n",
    "            names = names[:3]\n",
    "        return names\n",
    "    return []"
   ]
  },
  {
   "cell_type": "code",
   "execution_count": 53,
   "metadata": {},
   "outputs": [],
   "source": [
    "features = ['cast','keywords','genres']\n",
    "for feature in features:\n",
    "    df[feature] = df[feature].apply(get_list)"
   ]
  },
  {
   "cell_type": "code",
   "execution_count": 54,
   "metadata": {},
   "outputs": [
    {
     "data": {
      "text/html": [
       "<div>\n",
       "<style scoped>\n",
       "    .dataframe tbody tr th:only-of-type {\n",
       "        vertical-align: middle;\n",
       "    }\n",
       "\n",
       "    .dataframe tbody tr th {\n",
       "        vertical-align: top;\n",
       "    }\n",
       "\n",
       "    .dataframe thead th {\n",
       "        text-align: right;\n",
       "    }\n",
       "</style>\n",
       "<table border=\"1\" class=\"dataframe\">\n",
       "  <thead>\n",
       "    <tr style=\"text-align: right;\">\n",
       "      <th></th>\n",
       "      <th>title</th>\n",
       "      <th>cast</th>\n",
       "      <th>director</th>\n",
       "      <th>keywords</th>\n",
       "      <th>genres</th>\n",
       "    </tr>\n",
       "  </thead>\n",
       "  <tbody>\n",
       "    <tr>\n",
       "      <th>0</th>\n",
       "      <td>Avatar</td>\n",
       "      <td>[Sam Worthington, Zoe Saldana, Sigourney Weaver]</td>\n",
       "      <td>James Cameron</td>\n",
       "      <td>[culture clash, future, space war]</td>\n",
       "      <td>[Action, Adventure, Fantasy]</td>\n",
       "    </tr>\n",
       "    <tr>\n",
       "      <th>1</th>\n",
       "      <td>Pirates of the Caribbean: At World's End</td>\n",
       "      <td>[Johnny Depp, Orlando Bloom, Keira Knightley]</td>\n",
       "      <td>Gore Verbinski</td>\n",
       "      <td>[ocean, drug abuse, exotic island]</td>\n",
       "      <td>[Adventure, Fantasy, Action]</td>\n",
       "    </tr>\n",
       "    <tr>\n",
       "      <th>2</th>\n",
       "      <td>Spectre</td>\n",
       "      <td>[Daniel Craig, Christoph Waltz, Léa Seydoux]</td>\n",
       "      <td>Sam Mendes</td>\n",
       "      <td>[spy, based on novel, secret agent]</td>\n",
       "      <td>[Action, Adventure, Crime]</td>\n",
       "    </tr>\n",
       "  </tbody>\n",
       "</table>\n",
       "</div>"
      ],
      "text/plain": [
       "                                      title   \n",
       "0                                    Avatar  \\\n",
       "1  Pirates of the Caribbean: At World's End   \n",
       "2                                   Spectre   \n",
       "\n",
       "                                               cast        director   \n",
       "0  [Sam Worthington, Zoe Saldana, Sigourney Weaver]   James Cameron  \\\n",
       "1     [Johnny Depp, Orlando Bloom, Keira Knightley]  Gore Verbinski   \n",
       "2      [Daniel Craig, Christoph Waltz, Léa Seydoux]      Sam Mendes   \n",
       "\n",
       "                              keywords                        genres  \n",
       "0   [culture clash, future, space war]  [Action, Adventure, Fantasy]  \n",
       "1   [ocean, drug abuse, exotic island]  [Adventure, Fantasy, Action]  \n",
       "2  [spy, based on novel, secret agent]    [Action, Adventure, Crime]  "
      ]
     },
     "execution_count": 54,
     "metadata": {},
     "output_type": "execute_result"
    }
   ],
   "source": [
    "df[['title','cast','director','keywords','genres']].head(3)"
   ]
  },
  {
   "cell_type": "markdown",
   "metadata": {},
   "source": [
    "#### 벡터화\n",
    "- 영어에서 대소문자가 다르면 다르게 인식 -> 소문자화\n",
    "- 띄여쓰기 지우기 -> 한개의 객체를 한개로 인식시키기 위해서"
   ]
  },
  {
   "cell_type": "code",
   "execution_count": 55,
   "metadata": {},
   "outputs": [],
   "source": [
    "def clean_data(x):\n",
    "    if isinstance(x, list):\n",
    "        return [str.lower(i.replace(' ', '')) for i in x]\n",
    "    else:\n",
    "        if isinstance(x, str):\n",
    "            return str.lower(x.replace(' ',''))\n",
    "        else:\n",
    "            return ''\n",
    "    "
   ]
  },
  {
   "cell_type": "code",
   "execution_count": 56,
   "metadata": {},
   "outputs": [],
   "source": [
    "features = ['cast','keywords', 'director','genres']\n",
    "for feature in features:\n",
    "    df[feature] = df[feature].apply(clean_data)"
   ]
  },
  {
   "cell_type": "code",
   "execution_count": 57,
   "metadata": {},
   "outputs": [
    {
     "data": {
      "text/html": [
       "<div>\n",
       "<style scoped>\n",
       "    .dataframe tbody tr th:only-of-type {\n",
       "        vertical-align: middle;\n",
       "    }\n",
       "\n",
       "    .dataframe tbody tr th {\n",
       "        vertical-align: top;\n",
       "    }\n",
       "\n",
       "    .dataframe thead th {\n",
       "        text-align: right;\n",
       "    }\n",
       "</style>\n",
       "<table border=\"1\" class=\"dataframe\">\n",
       "  <thead>\n",
       "    <tr style=\"text-align: right;\">\n",
       "      <th></th>\n",
       "      <th>title</th>\n",
       "      <th>cast</th>\n",
       "      <th>director</th>\n",
       "      <th>keywords</th>\n",
       "      <th>genres</th>\n",
       "    </tr>\n",
       "  </thead>\n",
       "  <tbody>\n",
       "    <tr>\n",
       "      <th>0</th>\n",
       "      <td>Avatar</td>\n",
       "      <td>[samworthington, zoesaldana, sigourneyweaver]</td>\n",
       "      <td>jamescameron</td>\n",
       "      <td>[cultureclash, future, spacewar]</td>\n",
       "      <td>[action, adventure, fantasy]</td>\n",
       "    </tr>\n",
       "    <tr>\n",
       "      <th>1</th>\n",
       "      <td>Pirates of the Caribbean: At World's End</td>\n",
       "      <td>[johnnydepp, orlandobloom, keiraknightley]</td>\n",
       "      <td>goreverbinski</td>\n",
       "      <td>[ocean, drugabuse, exoticisland]</td>\n",
       "      <td>[adventure, fantasy, action]</td>\n",
       "    </tr>\n",
       "    <tr>\n",
       "      <th>2</th>\n",
       "      <td>Spectre</td>\n",
       "      <td>[danielcraig, christophwaltz, léaseydoux]</td>\n",
       "      <td>sammendes</td>\n",
       "      <td>[spy, basedonnovel, secretagent]</td>\n",
       "      <td>[action, adventure, crime]</td>\n",
       "    </tr>\n",
       "  </tbody>\n",
       "</table>\n",
       "</div>"
      ],
      "text/plain": [
       "                                      title   \n",
       "0                                    Avatar  \\\n",
       "1  Pirates of the Caribbean: At World's End   \n",
       "2                                   Spectre   \n",
       "\n",
       "                                            cast       director   \n",
       "0  [samworthington, zoesaldana, sigourneyweaver]   jamescameron  \\\n",
       "1     [johnnydepp, orlandobloom, keiraknightley]  goreverbinski   \n",
       "2      [danielcraig, christophwaltz, léaseydoux]      sammendes   \n",
       "\n",
       "                           keywords                        genres  \n",
       "0  [cultureclash, future, spacewar]  [action, adventure, fantasy]  \n",
       "1  [ocean, drugabuse, exoticisland]  [adventure, fantasy, action]  \n",
       "2  [spy, basedonnovel, secretagent]    [action, adventure, crime]  "
      ]
     },
     "execution_count": 57,
     "metadata": {},
     "output_type": "execute_result"
    }
   ],
   "source": [
    "df[['title','cast','director','keywords','genres']].head(3)"
   ]
  },
  {
   "cell_type": "markdown",
   "metadata": {},
   "source": [
    "하나의 컬럼으로 보고 합치기 --> 'overview'의 data와 같은 형태로 만들기"
   ]
  },
  {
   "cell_type": "code",
   "execution_count": 59,
   "metadata": {},
   "outputs": [],
   "source": [
    "#https://www.kaggle.com/code/ibtesama/getting-started-with-a-movie-recommendation-system 참고\n",
    "\n",
    "def create_soup(x):\n",
    "    return ' '.join(x['keywords']) + ' ' + ' '.join(x['cast']) + ' ' + x['director'] + ' ' + ' '.join(x['genres'])\n",
    "df['soup'] = df.apply(create_soup, axis=1)"
   ]
  },
  {
   "cell_type": "code",
   "execution_count": 60,
   "metadata": {},
   "outputs": [
    {
     "data": {
      "text/plain": [
       "0       cultureclash future spacewar samworthington zo...\n",
       "1       ocean drugabuse exoticisland johnnydepp orland...\n",
       "2       spy basedonnovel secretagent danielcraig chris...\n",
       "3       dccomics crimefighter terrorist christianbale ...\n",
       "4       basedonnovel mars medallion taylorkitsch lynnc...\n",
       "                              ...                        \n",
       "4798    unitedstates–mexicobarrier legs arms carlosgal...\n",
       "4799     edwardburns kerrybishé marshadietlein edwardb...\n",
       "4800    date loveatfirstsight narration ericmabius kri...\n",
       "4801       danielhenney elizacoupe billpaxton danielhsia \n",
       "4802    obsession camcorder crush drewbarrymore brianh...\n",
       "Name: soup, Length: 4803, dtype: object"
      ]
     },
     "execution_count": 60,
     "metadata": {},
     "output_type": "execute_result"
    }
   ],
   "source": [
    "df['soup']"
   ]
  },
  {
   "cell_type": "markdown",
   "metadata": {},
   "source": [
    "countvectorize"
   ]
  },
  {
   "cell_type": "code",
   "execution_count": 61,
   "metadata": {},
   "outputs": [
    {
     "data": {
      "text/plain": [
       "<4803x11520 sparse matrix of type '<class 'numpy.int64'>'\n",
       "\twith 42935 stored elements in Compressed Sparse Row format>"
      ]
     },
     "execution_count": 61,
     "metadata": {},
     "output_type": "execute_result"
    }
   ],
   "source": [
    "from sklearn.feature_extraction.text import CountVectorizer\n",
    "count = CountVectorizer(stop_words= 'english')\n",
    "count_matrix = count.fit_transform(df['soup'])\n",
    "count_matrix"
   ]
  },
  {
   "cell_type": "code",
   "execution_count": 62,
   "metadata": {},
   "outputs": [
    {
     "data": {
      "text/plain": [
       "array([[1. , 0.3, 0.2, ..., 0. , 0. , 0. ],\n",
       "       [0.3, 1. , 0.2, ..., 0. , 0. , 0. ],\n",
       "       [0.2, 0.2, 1. , ..., 0. , 0. , 0. ],\n",
       "       ...,\n",
       "       [0. , 0. , 0. , ..., 1. , 0. , 0. ],\n",
       "       [0. , 0. , 0. , ..., 0. , 1. , 0. ],\n",
       "       [0. , 0. , 0. , ..., 0. , 0. , 1. ]])"
      ]
     },
     "execution_count": 62,
     "metadata": {},
     "output_type": "execute_result"
    }
   ],
   "source": [
    "from sklearn.metrics.pairwise import cosine_similarity\n",
    "cosine_sim = cosine_similarity(count_matrix,count_matrix)\n",
    "cosine_sim"
   ]
  },
  {
   "cell_type": "code",
   "execution_count": 63,
   "metadata": {},
   "outputs": [
    {
     "data": {
      "text/plain": [
       "title\n",
       "Avatar                                         0\n",
       "Pirates of the Caribbean: At World's End       1\n",
       "Spectre                                        2\n",
       "The Dark Knight Rises                          3\n",
       "John Carter                                    4\n",
       "                                            ... \n",
       "El Mariachi                                 4798\n",
       "Newlyweds                                   4799\n",
       "Signed, Sealed, Delivered                   4800\n",
       "Shanghai Calling                            4801\n",
       "My Date with Drew                           4802\n",
       "Length: 4803, dtype: int64"
      ]
     },
     "execution_count": 63,
     "metadata": {},
     "output_type": "execute_result"
    }
   ],
   "source": [
    "indices = pd.Series(df.index, index=df['title']).drop_duplicates() # 중복제거\n",
    "indices"
   ]
  },
  {
   "cell_type": "code",
   "execution_count": 64,
   "metadata": {},
   "outputs": [],
   "source": [
    "def get_recommendations(title, cosine_sim=cosine_sim):\n",
    "    # 영화 제목을 통해서 전체 데이터 기준 그 영화의 index 값 얻기\n",
    "    idx = indices[title]\n",
    "    # 코사인 유사도 매트릭스에서 idx에 해당하는 데이터를 (idx, 유사도) 형태로 얻기\n",
    "    sim = list(enumerate(cosine_sim[idx]))\n",
    "    # 람다식 예제 아래에\n",
    "    sorted(sim, key = lambda x: x[1], reverse=True)\n",
    "    # 자기 자신을 제외한 10개의 추천 영화를 슬라이싱\n",
    "    sim = sim[1:11]\n",
    "    # 추천 영화 목록 10개의 인덱스 \n",
    "    movie_indice = [i[0] for i in sim]\n",
    "    recommend_list = [df['title'].iloc[x] for x in movie_indice]\n",
    "    return recommend_list\n"
   ]
  },
  {
   "cell_type": "code",
   "execution_count": 67,
   "metadata": {},
   "outputs": [
    {
     "data": {
      "text/plain": [
       "[\"Pirates of the Caribbean: At World's End\",\n",
       " 'Spectre',\n",
       " 'The Dark Knight Rises',\n",
       " 'John Carter',\n",
       " 'Spider-Man 3',\n",
       " 'Tangled',\n",
       " 'Avengers: Age of Ultron',\n",
       " 'Harry Potter and the Half-Blood Prince',\n",
       " 'Batman v Superman: Dawn of Justice',\n",
       " 'Superman Returns']"
      ]
     },
     "execution_count": 67,
     "metadata": {},
     "output_type": "execute_result"
    }
   ],
   "source": [
    "get_recommendations('The Martian',cosine_sim)"
   ]
  }
 ],
 "metadata": {
  "kernelspec": {
   "display_name": "Python 3",
   "language": "python",
   "name": "python3"
  },
  "language_info": {
   "codemirror_mode": {
    "name": "ipython",
    "version": 3
   },
   "file_extension": ".py",
   "mimetype": "text/x-python",
   "name": "python",
   "nbconvert_exporter": "python",
   "pygments_lexer": "ipython3",
   "version": "3.11.3"
  },
  "orig_nbformat": 4
 },
 "nbformat": 4,
 "nbformat_minor": 2
}
